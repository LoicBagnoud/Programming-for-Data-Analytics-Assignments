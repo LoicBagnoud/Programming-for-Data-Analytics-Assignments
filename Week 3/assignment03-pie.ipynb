{
 "cells": [
  {
   "cell_type": "markdown",
   "id": "d43c9799",
   "metadata": {},
   "source": [
    "## Assignment 3"
   ]
  },
  {
   "cell_type": "markdown",
   "id": "d89816d9",
   "metadata": {},
   "source": [
    "The following notebook is an extraction of the data within a CSV (email domains) file and its subsequent presentation in a pie chart\n",
    ">\n",
    "Author: Loic Bagnoud"
   ]
  },
  {
   "cell_type": "markdown",
   "id": "9e8415b5",
   "metadata": {},
   "source": [
    "Following along from the lecture, we will keep most of the same structure. We start by importing the packages we need."
   ]
  },
  {
   "cell_type": "code",
   "execution_count": 61,
   "id": "4b1facb2",
   "metadata": {},
   "outputs": [],
   "source": [
    "# This imports pandas. \n",
    "import pandas as pd"
   ]
  },
  {
   "cell_type": "markdown",
   "id": "cab14114",
   "metadata": {},
   "source": [
    "I had some issues with the format and how it was showing. If I used print(df.head(5) it displays a plain text version which is not very useful\n",
    "As such, it's better if we just use df.head(5)."
   ]
  },
  {
   "cell_type": "code",
   "execution_count": 62,
   "id": "08f57414",
   "metadata": {},
   "outputs": [
    {
     "data": {
      "text/html": [
       "<div>\n",
       "<style scoped>\n",
       "    .dataframe tbody tr th:only-of-type {\n",
       "        vertical-align: middle;\n",
       "    }\n",
       "\n",
       "    .dataframe tbody tr th {\n",
       "        vertical-align: top;\n",
       "    }\n",
       "\n",
       "    .dataframe thead th {\n",
       "        text-align: right;\n",
       "    }\n",
       "</style>\n",
       "<table border=\"1\" class=\"dataframe\">\n",
       "  <thead>\n",
       "    <tr style=\"text-align: right;\">\n",
       "      <th></th>\n",
       "      <th>Index</th>\n",
       "      <th>User Id</th>\n",
       "      <th>First Name</th>\n",
       "      <th>Last Name</th>\n",
       "      <th>Sex</th>\n",
       "      <th>Email</th>\n",
       "      <th>Phone</th>\n",
       "      <th>Date of birth</th>\n",
       "      <th>Job Title</th>\n",
       "    </tr>\n",
       "  </thead>\n",
       "  <tbody>\n",
       "    <tr>\n",
       "      <th>0</th>\n",
       "      <td>1</td>\n",
       "      <td>8717bbf45cCDbEe</td>\n",
       "      <td>Shelia</td>\n",
       "      <td>Mahoney</td>\n",
       "      <td>Male</td>\n",
       "      <td>pwarner@example.org</td>\n",
       "      <td>857.139.8239</td>\n",
       "      <td>2014-01-27</td>\n",
       "      <td>Probation officer</td>\n",
       "    </tr>\n",
       "    <tr>\n",
       "      <th>1</th>\n",
       "      <td>2</td>\n",
       "      <td>3d5AD30A4cD38ed</td>\n",
       "      <td>Jo</td>\n",
       "      <td>Rivers</td>\n",
       "      <td>Female</td>\n",
       "      <td>fergusonkatherine@example.net</td>\n",
       "      <td>+1-950-759-8687</td>\n",
       "      <td>1931-07-26</td>\n",
       "      <td>Dancer</td>\n",
       "    </tr>\n",
       "    <tr>\n",
       "      <th>2</th>\n",
       "      <td>3</td>\n",
       "      <td>810Ce0F276Badec</td>\n",
       "      <td>Sheryl</td>\n",
       "      <td>Lowery</td>\n",
       "      <td>Female</td>\n",
       "      <td>fhoward@example.org</td>\n",
       "      <td>(599)782-0605</td>\n",
       "      <td>2013-11-25</td>\n",
       "      <td>Copy</td>\n",
       "    </tr>\n",
       "    <tr>\n",
       "      <th>3</th>\n",
       "      <td>4</td>\n",
       "      <td>BF2a889C00f0cE1</td>\n",
       "      <td>Whitney</td>\n",
       "      <td>Hooper</td>\n",
       "      <td>Male</td>\n",
       "      <td>zjohnston@example.com</td>\n",
       "      <td>+1-939-130-6258</td>\n",
       "      <td>2012-11-17</td>\n",
       "      <td>Counselling psychologist</td>\n",
       "    </tr>\n",
       "    <tr>\n",
       "      <th>4</th>\n",
       "      <td>5</td>\n",
       "      <td>9afFEafAe1CBBB9</td>\n",
       "      <td>Lindsey</td>\n",
       "      <td>Rice</td>\n",
       "      <td>Female</td>\n",
       "      <td>elin@example.net</td>\n",
       "      <td>(390)417-1635x3010</td>\n",
       "      <td>1923-04-15</td>\n",
       "      <td>Biomedical engineer</td>\n",
       "    </tr>\n",
       "  </tbody>\n",
       "</table>\n",
       "</div>"
      ],
      "text/plain": [
       "   Index          User Id First Name Last Name     Sex  \\\n",
       "0      1  8717bbf45cCDbEe     Shelia   Mahoney    Male   \n",
       "1      2  3d5AD30A4cD38ed         Jo    Rivers  Female   \n",
       "2      3  810Ce0F276Badec     Sheryl    Lowery  Female   \n",
       "3      4  BF2a889C00f0cE1    Whitney    Hooper    Male   \n",
       "4      5  9afFEafAe1CBBB9    Lindsey      Rice  Female   \n",
       "\n",
       "                           Email               Phone Date of birth  \\\n",
       "0            pwarner@example.org        857.139.8239    2014-01-27   \n",
       "1  fergusonkatherine@example.net     +1-950-759-8687    1931-07-26   \n",
       "2            fhoward@example.org       (599)782-0605    2013-11-25   \n",
       "3          zjohnston@example.com     +1-939-130-6258    2012-11-17   \n",
       "4               elin@example.net  (390)417-1635x3010    1923-04-15   \n",
       "\n",
       "                  Job Title  \n",
       "0         Probation officer  \n",
       "1                    Dancer  \n",
       "2                      Copy  \n",
       "3  Counselling psychologist  \n",
       "4       Biomedical engineer  "
      ]
     },
     "execution_count": 62,
     "metadata": {},
     "output_type": "execute_result"
    }
   ],
   "source": [
    "# We create a variable called url and put the csv link in there.\n",
    "url = \"https://drive.google.com/uc?id=1AWPf-pJodJKeHsARQK_RHiNsE8fjPCVK&export=download\"\n",
    "\n",
    "# Afterwards, we read the variable with the read_csv function from pandas and display it\n",
    "df = pd.read_csv(url)\n",
    "df.head(5)"
   ]
  },
  {
   "cell_type": "markdown",
   "id": "08a00ed8",
   "metadata": {},
   "source": [
    "We now have our table and the data, so now we need to get the domains. For this, we do the following:"
   ]
  },
  {
   "cell_type": "code",
   "execution_count": 63,
   "id": "c3445316",
   "metadata": {},
   "outputs": [
    {
     "data": {
      "text/html": [
       "<div>\n",
       "<style scoped>\n",
       "    .dataframe tbody tr th:only-of-type {\n",
       "        vertical-align: middle;\n",
       "    }\n",
       "\n",
       "    .dataframe tbody tr th {\n",
       "        vertical-align: top;\n",
       "    }\n",
       "\n",
       "    .dataframe thead th {\n",
       "        text-align: right;\n",
       "    }\n",
       "</style>\n",
       "<table border=\"1\" class=\"dataframe\">\n",
       "  <thead>\n",
       "    <tr style=\"text-align: right;\">\n",
       "      <th></th>\n",
       "      <th>Index</th>\n",
       "      <th>User Id</th>\n",
       "      <th>First Name</th>\n",
       "      <th>Last Name</th>\n",
       "      <th>Sex</th>\n",
       "      <th>Email</th>\n",
       "      <th>Phone</th>\n",
       "      <th>Date of birth</th>\n",
       "      <th>Job Title</th>\n",
       "      <th>Email Domain</th>\n",
       "    </tr>\n",
       "  </thead>\n",
       "  <tbody>\n",
       "    <tr>\n",
       "      <th>0</th>\n",
       "      <td>1</td>\n",
       "      <td>8717bbf45cCDbEe</td>\n",
       "      <td>Shelia</td>\n",
       "      <td>Mahoney</td>\n",
       "      <td>Male</td>\n",
       "      <td>pwarner@example.org</td>\n",
       "      <td>857.139.8239</td>\n",
       "      <td>2014-01-27</td>\n",
       "      <td>Probation officer</td>\n",
       "      <td>example.org</td>\n",
       "    </tr>\n",
       "    <tr>\n",
       "      <th>1</th>\n",
       "      <td>2</td>\n",
       "      <td>3d5AD30A4cD38ed</td>\n",
       "      <td>Jo</td>\n",
       "      <td>Rivers</td>\n",
       "      <td>Female</td>\n",
       "      <td>fergusonkatherine@example.net</td>\n",
       "      <td>+1-950-759-8687</td>\n",
       "      <td>1931-07-26</td>\n",
       "      <td>Dancer</td>\n",
       "      <td>example.net</td>\n",
       "    </tr>\n",
       "    <tr>\n",
       "      <th>2</th>\n",
       "      <td>3</td>\n",
       "      <td>810Ce0F276Badec</td>\n",
       "      <td>Sheryl</td>\n",
       "      <td>Lowery</td>\n",
       "      <td>Female</td>\n",
       "      <td>fhoward@example.org</td>\n",
       "      <td>(599)782-0605</td>\n",
       "      <td>2013-11-25</td>\n",
       "      <td>Copy</td>\n",
       "      <td>example.org</td>\n",
       "    </tr>\n",
       "    <tr>\n",
       "      <th>3</th>\n",
       "      <td>4</td>\n",
       "      <td>BF2a889C00f0cE1</td>\n",
       "      <td>Whitney</td>\n",
       "      <td>Hooper</td>\n",
       "      <td>Male</td>\n",
       "      <td>zjohnston@example.com</td>\n",
       "      <td>+1-939-130-6258</td>\n",
       "      <td>2012-11-17</td>\n",
       "      <td>Counselling psychologist</td>\n",
       "      <td>example.com</td>\n",
       "    </tr>\n",
       "    <tr>\n",
       "      <th>4</th>\n",
       "      <td>5</td>\n",
       "      <td>9afFEafAe1CBBB9</td>\n",
       "      <td>Lindsey</td>\n",
       "      <td>Rice</td>\n",
       "      <td>Female</td>\n",
       "      <td>elin@example.net</td>\n",
       "      <td>(390)417-1635x3010</td>\n",
       "      <td>1923-04-15</td>\n",
       "      <td>Biomedical engineer</td>\n",
       "      <td>example.net</td>\n",
       "    </tr>\n",
       "  </tbody>\n",
       "</table>\n",
       "</div>"
      ],
      "text/plain": [
       "   Index          User Id First Name Last Name     Sex  \\\n",
       "0      1  8717bbf45cCDbEe     Shelia   Mahoney    Male   \n",
       "1      2  3d5AD30A4cD38ed         Jo    Rivers  Female   \n",
       "2      3  810Ce0F276Badec     Sheryl    Lowery  Female   \n",
       "3      4  BF2a889C00f0cE1    Whitney    Hooper    Male   \n",
       "4      5  9afFEafAe1CBBB9    Lindsey      Rice  Female   \n",
       "\n",
       "                           Email               Phone Date of birth  \\\n",
       "0            pwarner@example.org        857.139.8239    2014-01-27   \n",
       "1  fergusonkatherine@example.net     +1-950-759-8687    1931-07-26   \n",
       "2            fhoward@example.org       (599)782-0605    2013-11-25   \n",
       "3          zjohnston@example.com     +1-939-130-6258    2012-11-17   \n",
       "4               elin@example.net  (390)417-1635x3010    1923-04-15   \n",
       "\n",
       "                  Job Title Email Domain  \n",
       "0         Probation officer  example.org  \n",
       "1                    Dancer  example.net  \n",
       "2                      Copy  example.org  \n",
       "3  Counselling psychologist  example.com  \n",
       "4       Biomedical engineer  example.net  "
      ]
     },
     "execution_count": 63,
     "metadata": {},
     "output_type": "execute_result"
    }
   ],
   "source": [
    "# We create a column at the end of the data frame called \"email domain\". This is where we'll store our domains.\n",
    "df.insert(9, \"Email Domain\", True )\n",
    "\n",
    "# We then split the strings present in the email column at the \"@\" sign and store them in the \"email domain\" column\n",
    "df[\"Email Domain\"] = df['Email'].str.split('@').str[1]\n",
    "df.head(5)"
   ]
  },
  {
   "cell_type": "markdown",
   "id": "af9dd3b8",
   "metadata": {},
   "source": [
    "With our domains organised, we can go ahead and start working on our pie chart."
   ]
  },
  {
   "cell_type": "code",
   "execution_count": 64,
   "id": "d45a58f5",
   "metadata": {},
   "outputs": [
    {
     "data": {
      "text/plain": [
       "<matplotlib.legend.Legend at 0x2c4955479e0>"
      ]
     },
     "execution_count": 64,
     "metadata": {},
     "output_type": "execute_result"
    },
    {
     "data": {
      "image/png": "[encoded data removed]",
      "text/plain": [
       "<Figure size 600x600 with 1 Axes>"
      ]
     },
     "metadata": {},
     "output_type": "display_data"
    }
   ],
   "source": [
    "# We first go ahead and count the number of unique domains in the \"email domain column.\" \n",
    "# .value_counts() is great for this, since it counts the frequency of unique values in a Series.\n",
    "counts = df[\"Email Domain\"].value_counts()\n",
    "counts.name = None \n",
    "\n",
    "# For the actual pie plot, we go ahead and use the .plot.pie function from pandas and just define what we want. \n",
    "# In this case, as per the documentation, the y will be the column, we use the autopct to get the percentages, define measurements and\n",
    "# add a title. \n",
    "counts.plot.pie(\n",
    "    y=\"Email Domain\",\n",
    "    autopct=\"%1.1f%%\",\n",
    "    figsize=(6, 6),\n",
    "    title=\"Email Domain Distribution\",\n",
    "    ylabel=\"\"\n",
    ")\n",
    "\n",
    "# Then, after some issues with the legend that kept popping up in the middle of the pie chart, I had to go to the documentation of \n",
    "# matplotlib to see what I could use. I found .legend which allows me to customise the legend and put it on the right side. \n",
    "Legend = counts.plot.pie()\n",
    "\n",
    "# By following, the documentation, we can set our parameters. \n",
    "Legend.legend(\n",
    "    # This is the index and the names of the domains being counted\n",
    "    counts.index,         \n",
    "    # Followed by title, location for precision.       \n",
    "    title=\"Email Domain\",\n",
    "    loc=\"center left\",\n",
    "    # And this just forces it to go to the right side and not stay in the middle of the pie chart.\n",
    "    bbox_to_anchor=(1.02, 0.5),\n",
    ")"
   ]
  },
  {
   "cell_type": "markdown",
   "id": "5a171bd2",
   "metadata": {},
   "source": [
    "References:\n",
    ">\n",
    "https://www.geeksforgeeks.org/python/python-pandas-series-value_counts/ - How to count values in a panda dataframe\n",
    ">\n",
    "https://pandas.pydata.org/docs/reference/api/pandas.DataFrame.plot.pie.html\n",
    "https://pandas.pythonhumanities.com/04_01_pandas_and_plots.html             - How to make plots with pandas dataframes, without matplotlib\n",
    ">\n",
    "https://stackoverflow.com/questions/6170246/how-do-i-use-matplotlib-autopct - Finding out about autopct to get percentages.\n",
    ">\n",
    "https://matplotlib.org/stable/api/_as_gen/matplotlib.pyplot.legend.html - How to work with legends\n",
    ">\n",
    "__ChatGPT__ - On understanding why I kept having Counts on the left side of the pie chart.\n",
    ">\n",
    "\"_Pasted my code_\"\n",
    "\"This is working, but I have on the left side of the pie chart, count written there. How can I remove it?\"\n",
    ">\n",
    "GPT - You’re seeing “count” because Pandas uses the Series name as the y-label on pie plots. You made a second pie (Legend = counts.plot.pie()) without ylabel=\"\", so it shows up.\n",
    ">\n",
    "Two clean fixes:\n",
    ">\n",
    "Best: plot once and add legend to the same axes\n",
    ">\n",
    "Or: clear the Series name before plotting (_Went with this one_)"
   ]
  },
  {
   "cell_type": "code",
   "execution_count": 65,
   "id": "9b7b96a0",
   "metadata": {},
   "outputs": [
    {
     "data": {
      "text/plain": [
       "'\\ncounts = df[\"Email Domain\"].value_counts()\\ncounts.name = None            # <- remove the Series name so nothing is shown\\n\\nax = counts.plot.pie(\\n    autopct=\"%1.1f%%\",\\n    figsize=(6, 6),\\n    title=\"Email Domain Distribution\",\\n    ylabel=\"\"                 # safe to keep\\n)\\n\\nax.legend(counts.index, title=\"Email Domain\", loc=\"center left\", bbox_to_anchor=(1.02, 0.5), frameon=False)\\nax.figure.tight_layout()\\n'"
      ]
     },
     "execution_count": 65,
     "metadata": {},
     "output_type": "execute_result"
    }
   ],
   "source": [
    "'''\n",
    "counts = df[\"Email Domain\"].value_counts()\n",
    "counts.name = None            # <- remove the Series name so nothing is shown\n",
    "\n",
    "ax = counts.plot.pie(\n",
    "    autopct=\"%1.1f%%\",\n",
    "    figsize=(6, 6),\n",
    "    title=\"Email Domain Distribution\",\n",
    "    ylabel=\"\"                 # safe to keep\n",
    ")\n",
    "\n",
    "ax.legend(counts.index, title=\"Email Domain\", loc=\"center left\", bbox_to_anchor=(1.02, 0.5), frameon=False)\n",
    "ax.figure.tight_layout()\n",
    "'''"
   ]
  }
 ],
 "metadata": {
  "kernelspec": {
   "display_name": "base",
   "language": "python",
   "name": "python3"
  },
  "language_info": {
   "codemirror_mode": {
    "name": "ipython",
    "version": 3
   },
   "file_extension": ".py",
   "mimetype": "text/x-python",
   "name": "python",
   "nbconvert_exporter": "python",
   "pygments_lexer": "ipython3",
   "version": "3.12.11"
  }
 },
 "nbformat": 4,
 "nbformat_minor": 5
}
