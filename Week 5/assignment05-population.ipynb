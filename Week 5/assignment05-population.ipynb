{
 "cells": [
  {
   "cell_type": "markdown",
   "id": "56c4e6d1",
   "metadata": {},
   "source": [
    "## Assignment 5\n",
    "The following assignment will focus on analysing the differences between the sexes by age in Ireland.\n",
    "Author: Loic Soares Bagnoud\n"
   ]
  },
  {
   "cell_type": "markdown",
   "id": "0ab97a64",
   "metadata": {},
   "source": [
    "### Part 1\n",
    "#### Preparing the Data"
   ]
  },
  {
   "cell_type": "code",
   "execution_count": 62,
   "id": "e71b0552",
   "metadata": {},
   "outputs": [],
   "source": [
    "import pandas as pd\n",
    "import numpy as np"
   ]
  },
  {
   "cell_type": "code",
   "execution_count": 63,
   "id": "d0e6aaf4",
   "metadata": {},
   "outputs": [
    {
     "data": {
      "text/html": [
       "<div>\n",
       "<style scoped>\n",
       "    .dataframe tbody tr th:only-of-type {\n",
       "        vertical-align: middle;\n",
       "    }\n",
       "\n",
       "    .dataframe tbody tr th {\n",
       "        vertical-align: top;\n",
       "    }\n",
       "\n",
       "    .dataframe thead th {\n",
       "        text-align: right;\n",
       "    }\n",
       "</style>\n",
       "<table border=\"1\" class=\"dataframe\">\n",
       "  <thead>\n",
       "    <tr style=\"text-align: right;\">\n",
       "      <th></th>\n",
       "      <th>STATISTIC</th>\n",
       "      <th>Statistic Label</th>\n",
       "      <th>TLIST(A1)</th>\n",
       "      <th>CensusYear</th>\n",
       "      <th>C02199V02655</th>\n",
       "      <th>Sex</th>\n",
       "      <th>C02076V03371</th>\n",
       "      <th>Single Year of Age</th>\n",
       "      <th>C03789V04537</th>\n",
       "      <th>Administrative Counties</th>\n",
       "      <th>UNIT</th>\n",
       "      <th>VALUE</th>\n",
       "    </tr>\n",
       "  </thead>\n",
       "  <tbody>\n",
       "    <tr>\n",
       "      <th>9789</th>\n",
       "      <td>FY006AC01</td>\n",
       "      <td>Population</td>\n",
       "      <td>2022</td>\n",
       "      <td>2022</td>\n",
       "      <td>2</td>\n",
       "      <td>Female</td>\n",
       "      <td>650</td>\n",
       "      <td>100 years and over</td>\n",
       "      <td>2ae19629-149d-13a3-e055-000000000001</td>\n",
       "      <td>Cavan County Council</td>\n",
       "      <td>Number</td>\n",
       "      <td>12</td>\n",
       "    </tr>\n",
       "    <tr>\n",
       "      <th>9790</th>\n",
       "      <td>FY006AC01</td>\n",
       "      <td>Population</td>\n",
       "      <td>2022</td>\n",
       "      <td>2022</td>\n",
       "      <td>2</td>\n",
       "      <td>Female</td>\n",
       "      <td>650</td>\n",
       "      <td>100 years and over</td>\n",
       "      <td>2ae19629-14a4-13a3-e055-000000000001</td>\n",
       "      <td>Donegal County Council</td>\n",
       "      <td>Number</td>\n",
       "      <td>31</td>\n",
       "    </tr>\n",
       "    <tr>\n",
       "      <th>9791</th>\n",
       "      <td>FY006AC01</td>\n",
       "      <td>Population</td>\n",
       "      <td>2022</td>\n",
       "      <td>2022</td>\n",
       "      <td>2</td>\n",
       "      <td>Female</td>\n",
       "      <td>650</td>\n",
       "      <td>100 years and over</td>\n",
       "      <td>2ae19629-1495-13a3-e055-000000000001</td>\n",
       "      <td>Monaghan County Council</td>\n",
       "      <td>Number</td>\n",
       "      <td>7</td>\n",
       "    </tr>\n",
       "  </tbody>\n",
       "</table>\n",
       "</div>"
      ],
      "text/plain": [
       "      STATISTIC Statistic Label  TLIST(A1)  CensusYear C02199V02655     Sex  \\\n",
       "9789  FY006AC01      Population       2022        2022            2  Female   \n",
       "9790  FY006AC01      Population       2022        2022            2  Female   \n",
       "9791  FY006AC01      Population       2022        2022            2  Female   \n",
       "\n",
       "     C02076V03371  Single Year of Age                          C03789V04537  \\\n",
       "9789          650  100 years and over  2ae19629-149d-13a3-e055-000000000001   \n",
       "9790          650  100 years and over  2ae19629-14a4-13a3-e055-000000000001   \n",
       "9791          650  100 years and over  2ae19629-1495-13a3-e055-000000000001   \n",
       "\n",
       "      Administrative Counties    UNIT  VALUE  \n",
       "9789     Cavan County Council  Number     12  \n",
       "9790   Donegal County Council  Number     31  \n",
       "9791  Monaghan County Council  Number      7  "
      ]
     },
     "execution_count": 63,
     "metadata": {},
     "output_type": "execute_result"
    }
   ],
   "source": [
    "url = \"https://ws.cso.ie/public/api.restful/PxStat.Data.Cube_API.ReadDataset/FY006A/CSV/1.0/en\"\n",
    "df = pd.read_csv(url)\n",
    "df.tail(3)"
   ]
  },
  {
   "cell_type": "markdown",
   "id": "9ddd7162",
   "metadata": {},
   "source": [
    "Now I can do the code that is the prep for analysis.py  \n",
    "I just noticed that there were more columns so I need to get their names"
   ]
  },
  {
   "cell_type": "code",
   "execution_count": 64,
   "id": "d6d72e19",
   "metadata": {
    "scrolled": true
   },
   "outputs": [
    {
     "data": {
      "text/plain": [
       "['STATISTIC',\n",
       " 'Statistic Label',\n",
       " 'TLIST(A1)',\n",
       " 'CensusYear',\n",
       " 'C02199V02655',\n",
       " 'Sex',\n",
       " 'C02076V03371',\n",
       " 'Single Year of Age',\n",
       " 'C03789V04537',\n",
       " 'Administrative Counties',\n",
       " 'UNIT',\n",
       " 'VALUE']"
      ]
     },
     "execution_count": 64,
     "metadata": {},
     "output_type": "execute_result"
    }
   ],
   "source": [
    "headers = df.columns.tolist()\n",
    "headers"
   ]
  },
  {
   "cell_type": "code",
   "execution_count": 65,
   "id": "08f6cda0",
   "metadata": {},
   "outputs": [
    {
     "name": "stdout",
     "output_type": "stream",
     "text": [
      "<class 'pandas.core.frame.DataFrame'>\n",
      "Index: 6464 entries, 3296 to 9791\n",
      "Data columns (total 4 columns):\n",
      " #   Column                   Non-Null Count  Dtype \n",
      "---  ------                   --------------  ----- \n",
      " 0   Sex                      6464 non-null   object\n",
      " 1   Single Year of Age       6464 non-null   int64 \n",
      " 2   Administrative Counties  6464 non-null   object\n",
      " 3   VALUE                    6464 non-null   int64 \n",
      "dtypes: int64(2), object(2)\n",
      "memory usage: 252.5+ KB\n",
      "       Sex  Single Year of Age Administrative Counties  VALUE\n",
      "3296  Male                   0                 Ireland  29610\n",
      "3297  Male                   0   Carlow County Council    346\n",
      "3298  Male                   0     Dublin City Council   3188\n"
     ]
    }
   ],
   "source": [
    "drop_col_list = ['STATISTIC', 'Statistic Label','TLIST(A1)','CensusYear','C02199V02655','C02076V03371','C03789V04537','UNIT']\n",
    "\n",
    "df.drop(columns=drop_col_list, inplace=True)\n",
    "\n",
    "df = df[df[\"Single Year of Age\"] != \"All ages\"]\n",
    "df['Single Year of Age'] = df['Single Year of Age'].str.replace('Under 1 year', '0')\n",
    "df['Single Year of Age'] = df['Single Year of Age'].str.replace('\\D', '', regex=True)\n",
    "\n",
    "df['Single Year of Age']=df['Single Year of Age'].astype('int64')\n",
    "df['VALUE']=df['VALUE'].astype('int64')\n",
    "\n",
    "df = df[df[\"Sex\"] != \"Both sexes\"]\n",
    "df.info()\n",
    "\n",
    "print (df.head(3))\n"
   ]
  },
  {
   "cell_type": "code",
   "execution_count": 66,
   "id": "ce078e65",
   "metadata": {},
   "outputs": [
    {
     "name": "stdout",
     "output_type": "stream",
     "text": [
      "Administrative Counties    Carlow County Council  Cavan County Council  \\\n",
      "Sex    Single Year of Age                                                \n",
      "Female 0                                   353.0                 501.0   \n",
      "       1                                   302.0                 477.0   \n",
      "       2                                   334.0                 520.0   \n",
      "\n",
      "Administrative Counties    Clare County Council  Cork City Council  \\\n",
      "Sex    Single Year of Age                                            \n",
      "Female 0                                  691.0             1124.0   \n",
      "       1                                  704.0             1136.0   \n",
      "       2                                  744.0             1162.0   \n",
      "\n",
      "Administrative Counties    Cork County Council  Donegal County Council  \\\n",
      "Sex    Single Year of Age                                                \n",
      "Female 0                                2055.0                   881.0   \n",
      "       1                                2045.0                   918.0   \n",
      "       2                                2106.0                   983.0   \n",
      "\n",
      "Administrative Counties    Dublin City Council  \\\n",
      "Sex    Single Year of Age                        \n",
      "Female 0                                3025.0   \n",
      "       1                                2762.0   \n",
      "       2                                2795.0   \n",
      "\n",
      "Administrative Counties    Dún Laoghaire Rathdown County Council  \\\n",
      "Sex    Single Year of Age                                          \n",
      "Female 0                                                  1188.0   \n",
      "       1                                                  1192.0   \n",
      "       2                                                  1238.0   \n",
      "\n",
      "Administrative Counties    Fingal County Council  Galway City Council  ...  \\\n",
      "Sex    Single Year of Age                                              ...   \n",
      "Female 0                                  1950.0                387.0  ...   \n",
      "       1                                  1907.0                395.0  ...   \n",
      "       2                                  2112.0                386.0  ...   \n",
      "\n",
      "Administrative Counties    Monaghan County Council  Offaly County Council  \\\n",
      "Sex    Single Year of Age                                                   \n",
      "Female 0                                     423.0                  454.0   \n",
      "       1                                     386.0                  446.0   \n",
      "       2                                     436.0                  456.0   \n",
      "\n",
      "Administrative Counties    Roscommon County Council  Sligo County Council  \\\n",
      "Sex    Single Year of Age                                                   \n",
      "Female 0                                      366.0                 367.0   \n",
      "       1                                      384.0                 383.0   \n",
      "       2                                      428.0                 360.0   \n",
      "\n",
      "Administrative Counties    South Dublin County Council  \\\n",
      "Sex    Single Year of Age                                \n",
      "Female 0                                        1689.0   \n",
      "       1                                        1751.0   \n",
      "       2                                        1867.0   \n",
      "\n",
      "Administrative Counties    Tipperary County Council  \\\n",
      "Sex    Single Year of Age                             \n",
      "Female 0                                      915.0   \n",
      "       1                                      872.0   \n",
      "       2                                      879.0   \n",
      "\n",
      "Administrative Counties    Waterford City & County Council  \\\n",
      "Sex    Single Year of Age                                    \n",
      "Female 0                                             662.0   \n",
      "       1                                             602.0   \n",
      "       2                                             665.0   \n",
      "\n",
      "Administrative Counties    Westmeath County Council  Wexford County Council  \\\n",
      "Sex    Single Year of Age                                                     \n",
      "Female 0                                      535.0                   882.0   \n",
      "       1                                      602.0                   878.0   \n",
      "       2                                      532.0                   921.0   \n",
      "\n",
      "Administrative Counties    Wicklow County Council  \n",
      "Sex    Single Year of Age                          \n",
      "Female 0                                    800.0  \n",
      "       1                                    820.0  \n",
      "       2                                    890.0  \n",
      "\n",
      "[3 rows x 32 columns]\n"
     ]
    }
   ],
   "source": [
    "df_anal = pd.pivot_table(df, 'VALUE',[\"Sex\",'Single Year of Age'],\"Administrative Counties\")\n",
    "print (df_anal.head(3))\n",
    "# write out the entire file to local machine\n",
    "df_anal.to_csv(\"population_for_analysis.csv\")"
   ]
  },
  {
   "cell_type": "markdown",
   "id": "cd1ac77d",
   "metadata": {},
   "source": [
    "Reference: \n",
    "I had some issues here with an error I was getting. Luckily, ChatGPT helped me understand what the problem was:\n",
    "\n",
    " - https://chatgpt.com/share/68fb8980-d6bc-800b-93f3-d0702e0e6ee1"
   ]
  },
  {
   "cell_type": "markdown",
   "id": "ff892a81",
   "metadata": {},
   "source": [
    "#### Weighted descriptive statistics"
   ]
  },
  {
   "cell_type": "code",
   "execution_count": 67,
   "id": "d35365ca",
   "metadata": {},
   "outputs": [
    {
     "data": {
      "text/html": [
       "<div>\n",
       "<style scoped>\n",
       "    .dataframe tbody tr th:only-of-type {\n",
       "        vertical-align: middle;\n",
       "    }\n",
       "\n",
       "    .dataframe tbody tr th {\n",
       "        vertical-align: top;\n",
       "    }\n",
       "\n",
       "    .dataframe thead th {\n",
       "        text-align: right;\n",
       "    }\n",
       "</style>\n",
       "<table border=\"1\" class=\"dataframe\">\n",
       "  <thead>\n",
       "    <tr style=\"text-align: right;\">\n",
       "      <th></th>\n",
       "      <th>Sex</th>\n",
       "      <th>Single Year of Age</th>\n",
       "      <th>VALUE</th>\n",
       "    </tr>\n",
       "  </thead>\n",
       "  <tbody>\n",
       "    <tr>\n",
       "      <th>3296</th>\n",
       "      <td>Male</td>\n",
       "      <td>0</td>\n",
       "      <td>29610</td>\n",
       "    </tr>\n",
       "    <tr>\n",
       "      <th>3297</th>\n",
       "      <td>Male</td>\n",
       "      <td>0</td>\n",
       "      <td>346</td>\n",
       "    </tr>\n",
       "    <tr>\n",
       "      <th>3298</th>\n",
       "      <td>Male</td>\n",
       "      <td>0</td>\n",
       "      <td>3188</td>\n",
       "    </tr>\n",
       "    <tr>\n",
       "      <th>3299</th>\n",
       "      <td>Male</td>\n",
       "      <td>0</td>\n",
       "      <td>1269</td>\n",
       "    </tr>\n",
       "    <tr>\n",
       "      <th>3300</th>\n",
       "      <td>Male</td>\n",
       "      <td>0</td>\n",
       "      <td>2059</td>\n",
       "    </tr>\n",
       "    <tr>\n",
       "      <th>...</th>\n",
       "      <td>...</td>\n",
       "      <td>...</td>\n",
       "      <td>...</td>\n",
       "    </tr>\n",
       "    <tr>\n",
       "      <th>9787</th>\n",
       "      <td>Female</td>\n",
       "      <td>100</td>\n",
       "      <td>7</td>\n",
       "    </tr>\n",
       "    <tr>\n",
       "      <th>9788</th>\n",
       "      <td>Female</td>\n",
       "      <td>100</td>\n",
       "      <td>9</td>\n",
       "    </tr>\n",
       "    <tr>\n",
       "      <th>9789</th>\n",
       "      <td>Female</td>\n",
       "      <td>100</td>\n",
       "      <td>12</td>\n",
       "    </tr>\n",
       "    <tr>\n",
       "      <th>9790</th>\n",
       "      <td>Female</td>\n",
       "      <td>100</td>\n",
       "      <td>31</td>\n",
       "    </tr>\n",
       "    <tr>\n",
       "      <th>9791</th>\n",
       "      <td>Female</td>\n",
       "      <td>100</td>\n",
       "      <td>7</td>\n",
       "    </tr>\n",
       "  </tbody>\n",
       "</table>\n",
       "<p>6464 rows × 3 columns</p>\n",
       "</div>"
      ],
      "text/plain": [
       "         Sex  Single Year of Age  VALUE\n",
       "3296    Male                   0  29610\n",
       "3297    Male                   0    346\n",
       "3298    Male                   0   3188\n",
       "3299    Male                   0   1269\n",
       "3300    Male                   0   2059\n",
       "...      ...                 ...    ...\n",
       "9787  Female                 100      7\n",
       "9788  Female                 100      9\n",
       "9789  Female                 100     12\n",
       "9790  Female                 100     31\n",
       "9791  Female                 100      7\n",
       "\n",
       "[6464 rows x 3 columns]"
      ]
     },
     "execution_count": 67,
     "metadata": {},
     "output_type": "execute_result"
    }
   ],
   "source": [
    "df_sex_only = df[['Sex', 'Single Year of Age', 'VALUE']]\n",
    "df_sex_only"
   ]
  },
  {
   "cell_type": "code",
   "execution_count": 77,
   "id": "92e237ae",
   "metadata": {},
   "outputs": [
    {
     "name": "stderr",
     "output_type": "stream",
     "text": [
      "C:\\Users\\lourd\\AppData\\Local\\Temp\\ipykernel_7868\\1955519840.py:3: FutureWarning: DataFrameGroupBy.apply operated on the grouping columns. This behavior is deprecated, and in a future version of pandas the grouping columns will be excluded from the operation. Either pass `include_groups=False` to exclude the groupings or explicitly select the grouping columns after groupby to silence this warning.\n",
      "  weighted_mean_result = sex_grouped.apply(lambda g: np.average(g['Single Year of Age'], weights=g['VALUE']))\n"
     ]
    },
    {
     "data": {
      "text/html": [
       "<div>\n",
       "<style scoped>\n",
       "    .dataframe tbody tr th:only-of-type {\n",
       "        vertical-align: middle;\n",
       "    }\n",
       "\n",
       "    .dataframe tbody tr th {\n",
       "        vertical-align: top;\n",
       "    }\n",
       "\n",
       "    .dataframe thead th {\n",
       "        text-align: right;\n",
       "    }\n",
       "</style>\n",
       "<table border=\"1\" class=\"dataframe\">\n",
       "  <thead>\n",
       "    <tr style=\"text-align: right;\">\n",
       "      <th></th>\n",
       "      <th>Sex</th>\n",
       "      <th>Weighted Mean Age</th>\n",
       "    </tr>\n",
       "  </thead>\n",
       "  <tbody>\n",
       "    <tr>\n",
       "      <th>0</th>\n",
       "      <td>Female</td>\n",
       "      <td>38.939796</td>\n",
       "    </tr>\n",
       "    <tr>\n",
       "      <th>1</th>\n",
       "      <td>Male</td>\n",
       "      <td>37.739448</td>\n",
       "    </tr>\n",
       "  </tbody>\n",
       "</table>\n",
       "</div>"
      ],
      "text/plain": [
       "      Sex  Weighted Mean Age\n",
       "0  Female          38.939796\n",
       "1    Male          37.739448"
      ]
     },
     "execution_count": 77,
     "metadata": {},
     "output_type": "execute_result"
    }
   ],
   "source": [
    "sex_grouped = (df_sex_only.groupby(\"Sex\"))\n",
    "\n",
    "weighted_mean_result = sex_grouped.apply(lambda g: np.average(g['Single Year of Age'], weights=g['VALUE']))\n",
    "\n",
    "weighted_mean_by_sex = weighted_mean_result.reset_index(name='Weighted Mean Age')\n",
    "weighted_mean_by_sex"
   ]
  },
  {
   "cell_type": "markdown",
   "id": "c0958cb2",
   "metadata": {},
   "source": [
    "References:\n",
    "\n",
    "https://www.geeksforgeeks.org/pandas/python-pandas-dataframe-groupby/\n",
    "https://realpython.com/pandas-reset-index/"
   ]
  },
  {
   "cell_type": "markdown",
   "id": "2f861866",
   "metadata": {},
   "source": [
    "#### Calculating the Difference between the sexes by age"
   ]
  },
  {
   "cell_type": "code",
   "execution_count": null,
   "id": "70cfcc0e",
   "metadata": {},
   "outputs": [],
   "source": []
  },
  {
   "cell_type": "markdown",
   "id": "9e81ea0d",
   "metadata": {},
   "source": [
    "#### Or you can use numpy"
   ]
  }
 ],
 "metadata": {
  "kernelspec": {
   "display_name": "base",
   "language": "python",
   "name": "python3"
  },
  "language_info": {
   "codemirror_mode": {
    "name": "ipython",
    "version": 3
   },
   "file_extension": ".py",
   "mimetype": "text/x-python",
   "name": "python",
   "nbconvert_exporter": "python",
   "pygments_lexer": "ipython3",
   "version": "3.12.11"
  }
 },
 "nbformat": 4,
 "nbformat_minor": 5
}
